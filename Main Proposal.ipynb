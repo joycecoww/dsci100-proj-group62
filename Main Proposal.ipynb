{
 "cells": [
  {
   "cell_type": "code",
   "execution_count": 15,
   "id": "094cd000-e566-4605-9cab-712029134258",
   "metadata": {},
   "outputs": [],
   "source": [
    "library(tidyverse)\n",
    "library(readr)"
   ]
  },
  {
   "cell_type": "code",
   "execution_count": 19,
   "id": "2458d46c-b286-4cf4-8a72-5e2a507779a1",
   "metadata": {},
   "outputs": [
    {
     "name": "stderr",
     "output_type": "stream",
     "text": [
      "Warning message in open.connection(structure(7L, class = c(\"url\", \"connection\"), conn_id = <pointer: 0x25f>), :\n",
      "“cannot open URL 'https://raw.githubusercontent.com/joycecoww/dsci100-proj-group62/main/abalone.csv?token=GHSAT0AAAAAACDJUG7F5AVCST4CKLRHFQWMZECJRCQ': HTTP status was '404 Not Found'”\n"
     ]
    },
    {
     "ename": "ERROR",
     "evalue": "Error in open.connection(structure(7L, class = c(\"url\", \"connection\"), conn_id = <pointer: 0x25f>), : cannot open the connection to 'https://raw.githubusercontent.com/joycecoww/dsci100-proj-group62/main/abalone.csv?token=GHSAT0AAAAAACDJUG7F5AVCST4CKLRHFQWMZECJRCQ'\n",
     "output_type": "error",
     "traceback": [
      "Error in open.connection(structure(7L, class = c(\"url\", \"connection\"), conn_id = <pointer: 0x25f>), : cannot open the connection to 'https://raw.githubusercontent.com/joycecoww/dsci100-proj-group62/main/abalone.csv?token=GHSAT0AAAAAACDJUG7F5AVCST4CKLRHFQWMZECJRCQ'\nTraceback:\n",
      "1. read_csv(url(url_file))",
      "2. vroom::vroom(file, delim = \",\", col_names = col_names, col_types = col_types, \n .     col_select = {\n .         {\n .             col_select\n .         }\n .     }, id = id, .name_repair = name_repair, skip = skip, n_max = n_max, \n .     na = na, quote = quote, comment = comment, skip_empty_rows = skip_empty_rows, \n .     trim_ws = trim_ws, escape_double = TRUE, escape_backslash = FALSE, \n .     locale = locale, guess_max = guess_max, show_col_types = show_col_types, \n .     progress = progress, altrep = lazy, num_threads = num_threads)",
      "3. vroom_(file, delim = delim %||% col_types$delim, col_names = col_names, \n .     col_types = col_types, id = id, skip = skip, col_select = col_select, \n .     name_repair = .name_repair, na = na, quote = quote, trim_ws = trim_ws, \n .     escape_double = escape_double, escape_backslash = escape_backslash, \n .     comment = comment, skip_empty_rows = skip_empty_rows, locale = locale, \n .     guess_max = guess_max, n_max = n_max, altrep = vroom_altrep(altrep), \n .     num_threads = num_threads, progress = progress)",
      "4. (function (con, ...) \n . UseMethod(\"open\"))(structure(7L, class = c(\"url\", \"connection\"\n . ), conn_id = <pointer: 0x25f>), \"rb\")",
      "5. open.connection(structure(7L, class = c(\"url\", \"connection\"), conn_id = <pointer: 0x25f>), \n .     \"rb\")"
     ]
    }
   ],
   "source": [
    "url_file <- \"https://raw.githubusercontent.com/joycecoww/dsci100-proj-group62/main/abalone.csv?token=GHSAT0AAAAAACDJUG7F5AVCST4CKLRHFQWMZECJRCQ\"\n",
    "abalone <- read_csv(url(url_file))\n",
    "abalone"
   ]
  },
  {
   "cell_type": "code",
   "execution_count": null,
   "id": "192a3434-22ef-4511-bf9e-d1b08295929c",
   "metadata": {},
   "outputs": [],
   "source": []
  }
 ],
 "metadata": {
  "kernelspec": {
   "display_name": "R",
   "language": "R",
   "name": "ir"
  },
  "language_info": {
   "codemirror_mode": "r",
   "file_extension": ".r",
   "mimetype": "text/x-r-source",
   "name": "R",
   "pygments_lexer": "r",
   "version": "4.1.3"
  }
 },
 "nbformat": 4,
 "nbformat_minor": 5
}
