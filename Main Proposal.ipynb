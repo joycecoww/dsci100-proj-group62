{
 "cells": [
  {
   "cell_type": "code",
   "execution_count": 1,
   "id": "094cd000-e566-4605-9cab-712029134258",
   "metadata": {},
   "outputs": [
    {
     "name": "stderr",
     "output_type": "stream",
     "text": [
      "── \u001b[1mAttaching packages\u001b[22m ─────────────────────────────────────── tidyverse 1.3.1 ──\n",
      "\n",
      "\u001b[32m✔\u001b[39m \u001b[34mggplot2\u001b[39m 3.3.6     \u001b[32m✔\u001b[39m \u001b[34mpurrr  \u001b[39m 0.3.4\n",
      "\u001b[32m✔\u001b[39m \u001b[34mtibble \u001b[39m 3.1.7     \u001b[32m✔\u001b[39m \u001b[34mdplyr  \u001b[39m 1.0.9\n",
      "\u001b[32m✔\u001b[39m \u001b[34mtidyr  \u001b[39m 1.2.0     \u001b[32m✔\u001b[39m \u001b[34mstringr\u001b[39m 1.4.0\n",
      "\u001b[32m✔\u001b[39m \u001b[34mreadr  \u001b[39m 2.1.2     \u001b[32m✔\u001b[39m \u001b[34mforcats\u001b[39m 0.5.1\n",
      "\n",
      "── \u001b[1mConflicts\u001b[22m ────────────────────────────────────────── tidyverse_conflicts() ──\n",
      "\u001b[31m✖\u001b[39m \u001b[34mdplyr\u001b[39m::\u001b[32mfilter()\u001b[39m masks \u001b[34mstats\u001b[39m::filter()\n",
      "\u001b[31m✖\u001b[39m \u001b[34mdplyr\u001b[39m::\u001b[32mlag()\u001b[39m    masks \u001b[34mstats\u001b[39m::lag()\n",
      "\n",
      "── \u001b[1mAttaching packages\u001b[22m ────────────────────────────────────── tidymodels 1.0.0 ──\n",
      "\n",
      "\u001b[32m✔\u001b[39m \u001b[34mbroom       \u001b[39m 1.0.0     \u001b[32m✔\u001b[39m \u001b[34mrsample     \u001b[39m 1.0.0\n",
      "\u001b[32m✔\u001b[39m \u001b[34mdials       \u001b[39m 1.0.0     \u001b[32m✔\u001b[39m \u001b[34mtune        \u001b[39m 1.0.0\n",
      "\u001b[32m✔\u001b[39m \u001b[34minfer       \u001b[39m 1.0.2     \u001b[32m✔\u001b[39m \u001b[34mworkflows   \u001b[39m 1.0.0\n",
      "\u001b[32m✔\u001b[39m \u001b[34mmodeldata   \u001b[39m 1.0.0     \u001b[32m✔\u001b[39m \u001b[34mworkflowsets\u001b[39m 1.0.0\n",
      "\u001b[32m✔\u001b[39m \u001b[34mparsnip     \u001b[39m 1.0.0     \u001b[32m✔\u001b[39m \u001b[34myardstick   \u001b[39m 1.0.0\n",
      "\u001b[32m✔\u001b[39m \u001b[34mrecipes     \u001b[39m 1.0.1     \n",
      "\n",
      "── \u001b[1mConflicts\u001b[22m ───────────────────────────────────────── tidymodels_conflicts() ──\n",
      "\u001b[31m✖\u001b[39m \u001b[34mscales\u001b[39m::\u001b[32mdiscard()\u001b[39m masks \u001b[34mpurrr\u001b[39m::discard()\n",
      "\u001b[31m✖\u001b[39m \u001b[34mdplyr\u001b[39m::\u001b[32mfilter()\u001b[39m   masks \u001b[34mstats\u001b[39m::filter()\n",
      "\u001b[31m✖\u001b[39m \u001b[34mrecipes\u001b[39m::\u001b[32mfixed()\u001b[39m  masks \u001b[34mstringr\u001b[39m::fixed()\n",
      "\u001b[31m✖\u001b[39m \u001b[34mdplyr\u001b[39m::\u001b[32mlag()\u001b[39m      masks \u001b[34mstats\u001b[39m::lag()\n",
      "\u001b[31m✖\u001b[39m \u001b[34myardstick\u001b[39m::\u001b[32mspec()\u001b[39m masks \u001b[34mreadr\u001b[39m::spec()\n",
      "\u001b[31m✖\u001b[39m \u001b[34mrecipes\u001b[39m::\u001b[32mstep()\u001b[39m   masks \u001b[34mstats\u001b[39m::step()\n",
      "\u001b[34m•\u001b[39m Search for functions across packages at \u001b[32mhttps://www.tidymodels.org/find/\u001b[39m\n",
      "\n"
     ]
    }
   ],
   "source": [
    "library(tidyverse)\n",
    "library(readr)\n",
    "library(repr)\n",
    "library(tidymodels)\n",
    "options(repr.matrix.max.rows = 6)"
   ]
  },
  {
   "cell_type": "code",
   "execution_count": 2,
   "id": "2458d46c-b286-4cf4-8a72-5e2a507779a1",
   "metadata": {},
   "outputs": [
    {
     "name": "stderr",
     "output_type": "stream",
     "text": [
      "\u001b[1mRows: \u001b[22m\u001b[34m4177\u001b[39m \u001b[1mColumns: \u001b[22m\u001b[34m9\u001b[39m\n",
      "\u001b[36m──\u001b[39m \u001b[1mColumn specification\u001b[22m \u001b[36m────────────────────────────────────────────────────────\u001b[39m\n",
      "\u001b[1mDelimiter:\u001b[22m \",\"\n",
      "\u001b[31mchr\u001b[39m (1): Sex\n",
      "\u001b[32mdbl\u001b[39m (8): Length, Diameter, Height, Whole weight, Shucked weight, Viscera wei...\n",
      "\n",
      "\u001b[36mℹ\u001b[39m Use `spec()` to retrieve the full column specification for this data.\n",
      "\u001b[36mℹ\u001b[39m Specify the column types or set `show_col_types = FALSE` to quiet this message.\n"
     ]
    },
    {
     "data": {
      "text/html": [
       "<table class=\"dataframe\">\n",
       "<caption>A spec_tbl_df: 4177 × 9</caption>\n",
       "<thead>\n",
       "\t<tr><th scope=col>Sex</th><th scope=col>Length</th><th scope=col>Diameter</th><th scope=col>Height</th><th scope=col>Whole.weight</th><th scope=col>Shucked.weight</th><th scope=col>Viscera.weight</th><th scope=col>Shell.weight</th><th scope=col>Rings</th></tr>\n",
       "\t<tr><th scope=col>&lt;chr&gt;</th><th scope=col>&lt;dbl&gt;</th><th scope=col>&lt;dbl&gt;</th><th scope=col>&lt;dbl&gt;</th><th scope=col>&lt;dbl&gt;</th><th scope=col>&lt;dbl&gt;</th><th scope=col>&lt;dbl&gt;</th><th scope=col>&lt;dbl&gt;</th><th scope=col>&lt;dbl&gt;</th></tr>\n",
       "</thead>\n",
       "<tbody>\n",
       "\t<tr><td>M</td><td>0.455</td><td>0.365</td><td>0.095</td><td>0.5140</td><td>0.2245</td><td>0.1010</td><td>0.15</td><td>15</td></tr>\n",
       "\t<tr><td>M</td><td>0.350</td><td>0.265</td><td>0.090</td><td>0.2255</td><td>0.0995</td><td>0.0485</td><td>0.07</td><td> 7</td></tr>\n",
       "\t<tr><td>F</td><td>0.530</td><td>0.420</td><td>0.135</td><td>0.6770</td><td>0.2565</td><td>0.1415</td><td>0.21</td><td> 9</td></tr>\n",
       "\t<tr><td>⋮</td><td>⋮</td><td>⋮</td><td>⋮</td><td>⋮</td><td>⋮</td><td>⋮</td><td>⋮</td><td>⋮</td></tr>\n",
       "\t<tr><td>M</td><td>0.600</td><td>0.475</td><td>0.205</td><td>1.1760</td><td>0.5255</td><td>0.2875</td><td>0.308</td><td> 9</td></tr>\n",
       "\t<tr><td>F</td><td>0.625</td><td>0.485</td><td>0.150</td><td>1.0945</td><td>0.5310</td><td>0.2610</td><td>0.296</td><td>10</td></tr>\n",
       "\t<tr><td>M</td><td>0.710</td><td>0.555</td><td>0.195</td><td>1.9485</td><td>0.9455</td><td>0.3765</td><td>0.495</td><td>12</td></tr>\n",
       "</tbody>\n",
       "</table>\n"
      ],
      "text/latex": [
       "A spec\\_tbl\\_df: 4177 × 9\n",
       "\\begin{tabular}{lllllllll}\n",
       " Sex & Length & Diameter & Height & Whole.weight & Shucked.weight & Viscera.weight & Shell.weight & Rings\\\\\n",
       " <chr> & <dbl> & <dbl> & <dbl> & <dbl> & <dbl> & <dbl> & <dbl> & <dbl>\\\\\n",
       "\\hline\n",
       "\t M & 0.455 & 0.365 & 0.095 & 0.5140 & 0.2245 & 0.1010 & 0.15 & 15\\\\\n",
       "\t M & 0.350 & 0.265 & 0.090 & 0.2255 & 0.0995 & 0.0485 & 0.07 &  7\\\\\n",
       "\t F & 0.530 & 0.420 & 0.135 & 0.6770 & 0.2565 & 0.1415 & 0.21 &  9\\\\\n",
       "\t ⋮ & ⋮ & ⋮ & ⋮ & ⋮ & ⋮ & ⋮ & ⋮ & ⋮\\\\\n",
       "\t M & 0.600 & 0.475 & 0.205 & 1.1760 & 0.5255 & 0.2875 & 0.308 &  9\\\\\n",
       "\t F & 0.625 & 0.485 & 0.150 & 1.0945 & 0.5310 & 0.2610 & 0.296 & 10\\\\\n",
       "\t M & 0.710 & 0.555 & 0.195 & 1.9485 & 0.9455 & 0.3765 & 0.495 & 12\\\\\n",
       "\\end{tabular}\n"
      ],
      "text/markdown": [
       "\n",
       "A spec_tbl_df: 4177 × 9\n",
       "\n",
       "| Sex &lt;chr&gt; | Length &lt;dbl&gt; | Diameter &lt;dbl&gt; | Height &lt;dbl&gt; | Whole.weight &lt;dbl&gt; | Shucked.weight &lt;dbl&gt; | Viscera.weight &lt;dbl&gt; | Shell.weight &lt;dbl&gt; | Rings &lt;dbl&gt; |\n",
       "|---|---|---|---|---|---|---|---|---|\n",
       "| M | 0.455 | 0.365 | 0.095 | 0.5140 | 0.2245 | 0.1010 | 0.15 | 15 |\n",
       "| M | 0.350 | 0.265 | 0.090 | 0.2255 | 0.0995 | 0.0485 | 0.07 |  7 |\n",
       "| F | 0.530 | 0.420 | 0.135 | 0.6770 | 0.2565 | 0.1415 | 0.21 |  9 |\n",
       "| ⋮ | ⋮ | ⋮ | ⋮ | ⋮ | ⋮ | ⋮ | ⋮ | ⋮ |\n",
       "| M | 0.600 | 0.475 | 0.205 | 1.1760 | 0.5255 | 0.2875 | 0.308 |  9 |\n",
       "| F | 0.625 | 0.485 | 0.150 | 1.0945 | 0.5310 | 0.2610 | 0.296 | 10 |\n",
       "| M | 0.710 | 0.555 | 0.195 | 1.9485 | 0.9455 | 0.3765 | 0.495 | 12 |\n",
       "\n"
      ],
      "text/plain": [
       "     Sex Length Diameter Height Whole.weight Shucked.weight Viscera.weight\n",
       "1    M   0.455  0.365    0.095  0.5140       0.2245         0.1010        \n",
       "2    M   0.350  0.265    0.090  0.2255       0.0995         0.0485        \n",
       "3    F   0.530  0.420    0.135  0.6770       0.2565         0.1415        \n",
       "⋮    ⋮   ⋮      ⋮        ⋮      ⋮            ⋮              ⋮             \n",
       "4175 M   0.600  0.475    0.205  1.1760       0.5255         0.2875        \n",
       "4176 F   0.625  0.485    0.150  1.0945       0.5310         0.2610        \n",
       "4177 M   0.710  0.555    0.195  1.9485       0.9455         0.3765        \n",
       "     Shell.weight Rings\n",
       "1    0.15         15   \n",
       "2    0.07          7   \n",
       "3    0.21          9   \n",
       "⋮    ⋮            ⋮    \n",
       "4175 0.308         9   \n",
       "4176 0.296        10   \n",
       "4177 0.495        12   "
      ]
     },
     "metadata": {},
     "output_type": "display_data"
    }
   ],
   "source": [
    "#url_file <- \"https://raw.githubusercontent.com/joycecoww/dsci100-proj-group62/main/abalone.csv?token=GHSAT0AAAAAACDJUG7ETHNXZGLIYRHD7Q32ZECJ25Q\"\n",
    "abalone <- read_csv(file = \"abalone.csv\")\n",
    "\n",
    "colnames(abalone) <- make.names(colnames(abalone))\n",
    "abalone"
   ]
  },
  {
   "cell_type": "code",
   "execution_count": 3,
   "id": "f0c249b4-c9c2-4ce4-8b49-990b822837c7",
   "metadata": {},
   "outputs": [
    {
     "data": {
      "text/html": [
       "<table class=\"dataframe\">\n",
       "<caption>A tibble: 4177 × 10</caption>\n",
       "<thead>\n",
       "\t<tr><th scope=col>Sex</th><th scope=col>Length</th><th scope=col>Diameter</th><th scope=col>Height</th><th scope=col>Whole.weight</th><th scope=col>Shucked.weight</th><th scope=col>Viscera.weight</th><th scope=col>Shell.weight</th><th scope=col>Rings</th><th scope=col>Age</th></tr>\n",
       "\t<tr><th scope=col>&lt;chr&gt;</th><th scope=col>&lt;dbl&gt;</th><th scope=col>&lt;dbl&gt;</th><th scope=col>&lt;dbl&gt;</th><th scope=col>&lt;dbl&gt;</th><th scope=col>&lt;dbl&gt;</th><th scope=col>&lt;dbl&gt;</th><th scope=col>&lt;dbl&gt;</th><th scope=col>&lt;dbl&gt;</th><th scope=col>&lt;dbl&gt;</th></tr>\n",
       "</thead>\n",
       "<tbody>\n",
       "\t<tr><td>M</td><td>0.455</td><td>0.365</td><td>0.095</td><td>0.5140</td><td>0.2245</td><td>0.1010</td><td>0.15</td><td>15</td><td>16.5</td></tr>\n",
       "\t<tr><td>M</td><td>0.350</td><td>0.265</td><td>0.090</td><td>0.2255</td><td>0.0995</td><td>0.0485</td><td>0.07</td><td> 7</td><td> 8.5</td></tr>\n",
       "\t<tr><td>F</td><td>0.530</td><td>0.420</td><td>0.135</td><td>0.6770</td><td>0.2565</td><td>0.1415</td><td>0.21</td><td> 9</td><td>10.5</td></tr>\n",
       "\t<tr><td>⋮</td><td>⋮</td><td>⋮</td><td>⋮</td><td>⋮</td><td>⋮</td><td>⋮</td><td>⋮</td><td>⋮</td><td>⋮</td></tr>\n",
       "\t<tr><td>M</td><td>0.600</td><td>0.475</td><td>0.205</td><td>1.1760</td><td>0.5255</td><td>0.2875</td><td>0.308</td><td> 9</td><td>10.5</td></tr>\n",
       "\t<tr><td>F</td><td>0.625</td><td>0.485</td><td>0.150</td><td>1.0945</td><td>0.5310</td><td>0.2610</td><td>0.296</td><td>10</td><td>11.5</td></tr>\n",
       "\t<tr><td>M</td><td>0.710</td><td>0.555</td><td>0.195</td><td>1.9485</td><td>0.9455</td><td>0.3765</td><td>0.495</td><td>12</td><td>13.5</td></tr>\n",
       "</tbody>\n",
       "</table>\n"
      ],
      "text/latex": [
       "A tibble: 4177 × 10\n",
       "\\begin{tabular}{llllllllll}\n",
       " Sex & Length & Diameter & Height & Whole.weight & Shucked.weight & Viscera.weight & Shell.weight & Rings & Age\\\\\n",
       " <chr> & <dbl> & <dbl> & <dbl> & <dbl> & <dbl> & <dbl> & <dbl> & <dbl> & <dbl>\\\\\n",
       "\\hline\n",
       "\t M & 0.455 & 0.365 & 0.095 & 0.5140 & 0.2245 & 0.1010 & 0.15 & 15 & 16.5\\\\\n",
       "\t M & 0.350 & 0.265 & 0.090 & 0.2255 & 0.0995 & 0.0485 & 0.07 &  7 &  8.5\\\\\n",
       "\t F & 0.530 & 0.420 & 0.135 & 0.6770 & 0.2565 & 0.1415 & 0.21 &  9 & 10.5\\\\\n",
       "\t ⋮ & ⋮ & ⋮ & ⋮ & ⋮ & ⋮ & ⋮ & ⋮ & ⋮ & ⋮\\\\\n",
       "\t M & 0.600 & 0.475 & 0.205 & 1.1760 & 0.5255 & 0.2875 & 0.308 &  9 & 10.5\\\\\n",
       "\t F & 0.625 & 0.485 & 0.150 & 1.0945 & 0.5310 & 0.2610 & 0.296 & 10 & 11.5\\\\\n",
       "\t M & 0.710 & 0.555 & 0.195 & 1.9485 & 0.9455 & 0.3765 & 0.495 & 12 & 13.5\\\\\n",
       "\\end{tabular}\n"
      ],
      "text/markdown": [
       "\n",
       "A tibble: 4177 × 10\n",
       "\n",
       "| Sex &lt;chr&gt; | Length &lt;dbl&gt; | Diameter &lt;dbl&gt; | Height &lt;dbl&gt; | Whole.weight &lt;dbl&gt; | Shucked.weight &lt;dbl&gt; | Viscera.weight &lt;dbl&gt; | Shell.weight &lt;dbl&gt; | Rings &lt;dbl&gt; | Age &lt;dbl&gt; |\n",
       "|---|---|---|---|---|---|---|---|---|---|\n",
       "| M | 0.455 | 0.365 | 0.095 | 0.5140 | 0.2245 | 0.1010 | 0.15 | 15 | 16.5 |\n",
       "| M | 0.350 | 0.265 | 0.090 | 0.2255 | 0.0995 | 0.0485 | 0.07 |  7 |  8.5 |\n",
       "| F | 0.530 | 0.420 | 0.135 | 0.6770 | 0.2565 | 0.1415 | 0.21 |  9 | 10.5 |\n",
       "| ⋮ | ⋮ | ⋮ | ⋮ | ⋮ | ⋮ | ⋮ | ⋮ | ⋮ | ⋮ |\n",
       "| M | 0.600 | 0.475 | 0.205 | 1.1760 | 0.5255 | 0.2875 | 0.308 |  9 | 10.5 |\n",
       "| F | 0.625 | 0.485 | 0.150 | 1.0945 | 0.5310 | 0.2610 | 0.296 | 10 | 11.5 |\n",
       "| M | 0.710 | 0.555 | 0.195 | 1.9485 | 0.9455 | 0.3765 | 0.495 | 12 | 13.5 |\n",
       "\n"
      ],
      "text/plain": [
       "     Sex Length Diameter Height Whole.weight Shucked.weight Viscera.weight\n",
       "1    M   0.455  0.365    0.095  0.5140       0.2245         0.1010        \n",
       "2    M   0.350  0.265    0.090  0.2255       0.0995         0.0485        \n",
       "3    F   0.530  0.420    0.135  0.6770       0.2565         0.1415        \n",
       "⋮    ⋮   ⋮      ⋮        ⋮      ⋮            ⋮              ⋮             \n",
       "4175 M   0.600  0.475    0.205  1.1760       0.5255         0.2875        \n",
       "4176 F   0.625  0.485    0.150  1.0945       0.5310         0.2610        \n",
       "4177 M   0.710  0.555    0.195  1.9485       0.9455         0.3765        \n",
       "     Shell.weight Rings Age \n",
       "1    0.15         15    16.5\n",
       "2    0.07          7     8.5\n",
       "3    0.21          9    10.5\n",
       "⋮    ⋮            ⋮     ⋮   \n",
       "4175 0.308         9    10.5\n",
       "4176 0.296        10    11.5\n",
       "4177 0.495        12    13.5"
      ]
     },
     "metadata": {},
     "output_type": "display_data"
    }
   ],
   "source": [
    "abalone <- mutate(abalone, Age = Rings + 1.5)\n",
    "abalone"
   ]
  },
  {
   "cell_type": "code",
   "execution_count": 4,
   "id": "8b64a5f7-fb57-48ee-b805-9ff148c859c4",
   "metadata": {
    "tags": []
   },
   "outputs": [
    {
     "data": {
      "text/html": [
       "<table class=\"dataframe\">\n",
       "<caption>A tibble: 3131 × 10</caption>\n",
       "<thead>\n",
       "\t<tr><th scope=col>Sex</th><th scope=col>Length</th><th scope=col>Diameter</th><th scope=col>Height</th><th scope=col>Whole.weight</th><th scope=col>Shucked.weight</th><th scope=col>Viscera.weight</th><th scope=col>Shell.weight</th><th scope=col>Rings</th><th scope=col>Age</th></tr>\n",
       "\t<tr><th scope=col>&lt;chr&gt;</th><th scope=col>&lt;dbl&gt;</th><th scope=col>&lt;dbl&gt;</th><th scope=col>&lt;dbl&gt;</th><th scope=col>&lt;dbl&gt;</th><th scope=col>&lt;dbl&gt;</th><th scope=col>&lt;dbl&gt;</th><th scope=col>&lt;dbl&gt;</th><th scope=col>&lt;dbl&gt;</th><th scope=col>&lt;dbl&gt;</th></tr>\n",
       "</thead>\n",
       "<tbody>\n",
       "\t<tr><td>M</td><td>0.350</td><td>0.265</td><td>0.090</td><td>0.2255</td><td>0.0995</td><td>0.0485</td><td>0.070</td><td>7</td><td>8.5</td></tr>\n",
       "\t<tr><td>I</td><td>0.330</td><td>0.255</td><td>0.080</td><td>0.2050</td><td>0.0895</td><td>0.0395</td><td>0.055</td><td>7</td><td>8.5</td></tr>\n",
       "\t<tr><td>M</td><td>0.465</td><td>0.355</td><td>0.105</td><td>0.4795</td><td>0.2270</td><td>0.1240</td><td>0.125</td><td>8</td><td>9.5</td></tr>\n",
       "\t<tr><td>⋮</td><td>⋮</td><td>⋮</td><td>⋮</td><td>⋮</td><td>⋮</td><td>⋮</td><td>⋮</td><td>⋮</td><td>⋮</td></tr>\n",
       "\t<tr><td>M</td><td>0.655</td><td>0.525</td><td>0.180</td><td>1.4020</td><td>0.6240</td><td>0.2935</td><td>0.365</td><td>13</td><td>14.5</td></tr>\n",
       "\t<tr><td>F</td><td>0.655</td><td>0.500</td><td>0.220</td><td>1.3590</td><td>0.6420</td><td>0.3255</td><td>0.405</td><td>13</td><td>14.5</td></tr>\n",
       "\t<tr><td>M</td><td>0.710</td><td>0.555</td><td>0.195</td><td>1.9485</td><td>0.9455</td><td>0.3765</td><td>0.495</td><td>12</td><td>13.5</td></tr>\n",
       "</tbody>\n",
       "</table>\n"
      ],
      "text/latex": [
       "A tibble: 3131 × 10\n",
       "\\begin{tabular}{llllllllll}\n",
       " Sex & Length & Diameter & Height & Whole.weight & Shucked.weight & Viscera.weight & Shell.weight & Rings & Age\\\\\n",
       " <chr> & <dbl> & <dbl> & <dbl> & <dbl> & <dbl> & <dbl> & <dbl> & <dbl> & <dbl>\\\\\n",
       "\\hline\n",
       "\t M & 0.350 & 0.265 & 0.090 & 0.2255 & 0.0995 & 0.0485 & 0.070 & 7 & 8.5\\\\\n",
       "\t I & 0.330 & 0.255 & 0.080 & 0.2050 & 0.0895 & 0.0395 & 0.055 & 7 & 8.5\\\\\n",
       "\t M & 0.465 & 0.355 & 0.105 & 0.4795 & 0.2270 & 0.1240 & 0.125 & 8 & 9.5\\\\\n",
       "\t ⋮ & ⋮ & ⋮ & ⋮ & ⋮ & ⋮ & ⋮ & ⋮ & ⋮ & ⋮\\\\\n",
       "\t M & 0.655 & 0.525 & 0.180 & 1.4020 & 0.6240 & 0.2935 & 0.365 & 13 & 14.5\\\\\n",
       "\t F & 0.655 & 0.500 & 0.220 & 1.3590 & 0.6420 & 0.3255 & 0.405 & 13 & 14.5\\\\\n",
       "\t M & 0.710 & 0.555 & 0.195 & 1.9485 & 0.9455 & 0.3765 & 0.495 & 12 & 13.5\\\\\n",
       "\\end{tabular}\n"
      ],
      "text/markdown": [
       "\n",
       "A tibble: 3131 × 10\n",
       "\n",
       "| Sex &lt;chr&gt; | Length &lt;dbl&gt; | Diameter &lt;dbl&gt; | Height &lt;dbl&gt; | Whole.weight &lt;dbl&gt; | Shucked.weight &lt;dbl&gt; | Viscera.weight &lt;dbl&gt; | Shell.weight &lt;dbl&gt; | Rings &lt;dbl&gt; | Age &lt;dbl&gt; |\n",
       "|---|---|---|---|---|---|---|---|---|---|\n",
       "| M | 0.350 | 0.265 | 0.090 | 0.2255 | 0.0995 | 0.0485 | 0.070 | 7 | 8.5 |\n",
       "| I | 0.330 | 0.255 | 0.080 | 0.2050 | 0.0895 | 0.0395 | 0.055 | 7 | 8.5 |\n",
       "| M | 0.465 | 0.355 | 0.105 | 0.4795 | 0.2270 | 0.1240 | 0.125 | 8 | 9.5 |\n",
       "| ⋮ | ⋮ | ⋮ | ⋮ | ⋮ | ⋮ | ⋮ | ⋮ | ⋮ | ⋮ |\n",
       "| M | 0.655 | 0.525 | 0.180 | 1.4020 | 0.6240 | 0.2935 | 0.365 | 13 | 14.5 |\n",
       "| F | 0.655 | 0.500 | 0.220 | 1.3590 | 0.6420 | 0.3255 | 0.405 | 13 | 14.5 |\n",
       "| M | 0.710 | 0.555 | 0.195 | 1.9485 | 0.9455 | 0.3765 | 0.495 | 12 | 13.5 |\n",
       "\n"
      ],
      "text/plain": [
       "     Sex Length Diameter Height Whole.weight Shucked.weight Viscera.weight\n",
       "1    M   0.350  0.265    0.090  0.2255       0.0995         0.0485        \n",
       "2    I   0.330  0.255    0.080  0.2050       0.0895         0.0395        \n",
       "3    M   0.465  0.355    0.105  0.4795       0.2270         0.1240        \n",
       "⋮    ⋮   ⋮      ⋮        ⋮      ⋮            ⋮              ⋮             \n",
       "3129 M   0.655  0.525    0.180  1.4020       0.6240         0.2935        \n",
       "3130 F   0.655  0.500    0.220  1.3590       0.6420         0.3255        \n",
       "3131 M   0.710  0.555    0.195  1.9485       0.9455         0.3765        \n",
       "     Shell.weight Rings Age \n",
       "1    0.070        7     8.5 \n",
       "2    0.055        7     8.5 \n",
       "3    0.125        8     9.5 \n",
       "⋮    ⋮            ⋮     ⋮   \n",
       "3129 0.365        13    14.5\n",
       "3130 0.405        13    14.5\n",
       "3131 0.495        12    13.5"
      ]
     },
     "metadata": {},
     "output_type": "display_data"
    },
    {
     "data": {
      "text/html": [
       "<table class=\"dataframe\">\n",
       "<caption>A tibble: 1046 × 10</caption>\n",
       "<thead>\n",
       "\t<tr><th scope=col>Sex</th><th scope=col>Length</th><th scope=col>Diameter</th><th scope=col>Height</th><th scope=col>Whole.weight</th><th scope=col>Shucked.weight</th><th scope=col>Viscera.weight</th><th scope=col>Shell.weight</th><th scope=col>Rings</th><th scope=col>Age</th></tr>\n",
       "\t<tr><th scope=col>&lt;chr&gt;</th><th scope=col>&lt;dbl&gt;</th><th scope=col>&lt;dbl&gt;</th><th scope=col>&lt;dbl&gt;</th><th scope=col>&lt;dbl&gt;</th><th scope=col>&lt;dbl&gt;</th><th scope=col>&lt;dbl&gt;</th><th scope=col>&lt;dbl&gt;</th><th scope=col>&lt;dbl&gt;</th><th scope=col>&lt;dbl&gt;</th></tr>\n",
       "</thead>\n",
       "<tbody>\n",
       "\t<tr><td>M</td><td>0.455</td><td>0.365</td><td>0.095</td><td>0.5140</td><td>0.2245</td><td>0.1010</td><td>0.150</td><td>15</td><td>16.5</td></tr>\n",
       "\t<tr><td>M</td><td>0.440</td><td>0.365</td><td>0.125</td><td>0.5160</td><td>0.2155</td><td>0.1140</td><td>0.155</td><td>10</td><td>11.5</td></tr>\n",
       "\t<tr><td>I</td><td>0.425</td><td>0.300</td><td>0.095</td><td>0.3515</td><td>0.1410</td><td>0.0775</td><td>0.120</td><td> 8</td><td> 9.5</td></tr>\n",
       "\t<tr><td>⋮</td><td>⋮</td><td>⋮</td><td>⋮</td><td>⋮</td><td>⋮</td><td>⋮</td><td>⋮</td><td>⋮</td><td>⋮</td></tr>\n",
       "\t<tr><td>M</td><td>0.500</td><td>0.380</td><td>0.125</td><td>0.5770</td><td>0.269</td><td>0.1265</td><td>0.1535</td><td> 9</td><td>10.5</td></tr>\n",
       "\t<tr><td>M</td><td>0.590</td><td>0.440</td><td>0.135</td><td>0.9660</td><td>0.439</td><td>0.2145</td><td>0.2605</td><td>10</td><td>11.5</td></tr>\n",
       "\t<tr><td>F</td><td>0.625</td><td>0.485</td><td>0.150</td><td>1.0945</td><td>0.531</td><td>0.2610</td><td>0.2960</td><td>10</td><td>11.5</td></tr>\n",
       "</tbody>\n",
       "</table>\n"
      ],
      "text/latex": [
       "A tibble: 1046 × 10\n",
       "\\begin{tabular}{llllllllll}\n",
       " Sex & Length & Diameter & Height & Whole.weight & Shucked.weight & Viscera.weight & Shell.weight & Rings & Age\\\\\n",
       " <chr> & <dbl> & <dbl> & <dbl> & <dbl> & <dbl> & <dbl> & <dbl> & <dbl> & <dbl>\\\\\n",
       "\\hline\n",
       "\t M & 0.455 & 0.365 & 0.095 & 0.5140 & 0.2245 & 0.1010 & 0.150 & 15 & 16.5\\\\\n",
       "\t M & 0.440 & 0.365 & 0.125 & 0.5160 & 0.2155 & 0.1140 & 0.155 & 10 & 11.5\\\\\n",
       "\t I & 0.425 & 0.300 & 0.095 & 0.3515 & 0.1410 & 0.0775 & 0.120 &  8 &  9.5\\\\\n",
       "\t ⋮ & ⋮ & ⋮ & ⋮ & ⋮ & ⋮ & ⋮ & ⋮ & ⋮ & ⋮\\\\\n",
       "\t M & 0.500 & 0.380 & 0.125 & 0.5770 & 0.269 & 0.1265 & 0.1535 &  9 & 10.5\\\\\n",
       "\t M & 0.590 & 0.440 & 0.135 & 0.9660 & 0.439 & 0.2145 & 0.2605 & 10 & 11.5\\\\\n",
       "\t F & 0.625 & 0.485 & 0.150 & 1.0945 & 0.531 & 0.2610 & 0.2960 & 10 & 11.5\\\\\n",
       "\\end{tabular}\n"
      ],
      "text/markdown": [
       "\n",
       "A tibble: 1046 × 10\n",
       "\n",
       "| Sex &lt;chr&gt; | Length &lt;dbl&gt; | Diameter &lt;dbl&gt; | Height &lt;dbl&gt; | Whole.weight &lt;dbl&gt; | Shucked.weight &lt;dbl&gt; | Viscera.weight &lt;dbl&gt; | Shell.weight &lt;dbl&gt; | Rings &lt;dbl&gt; | Age &lt;dbl&gt; |\n",
       "|---|---|---|---|---|---|---|---|---|---|\n",
       "| M | 0.455 | 0.365 | 0.095 | 0.5140 | 0.2245 | 0.1010 | 0.150 | 15 | 16.5 |\n",
       "| M | 0.440 | 0.365 | 0.125 | 0.5160 | 0.2155 | 0.1140 | 0.155 | 10 | 11.5 |\n",
       "| I | 0.425 | 0.300 | 0.095 | 0.3515 | 0.1410 | 0.0775 | 0.120 |  8 |  9.5 |\n",
       "| ⋮ | ⋮ | ⋮ | ⋮ | ⋮ | ⋮ | ⋮ | ⋮ | ⋮ | ⋮ |\n",
       "| M | 0.500 | 0.380 | 0.125 | 0.5770 | 0.269 | 0.1265 | 0.1535 |  9 | 10.5 |\n",
       "| M | 0.590 | 0.440 | 0.135 | 0.9660 | 0.439 | 0.2145 | 0.2605 | 10 | 11.5 |\n",
       "| F | 0.625 | 0.485 | 0.150 | 1.0945 | 0.531 | 0.2610 | 0.2960 | 10 | 11.5 |\n",
       "\n"
      ],
      "text/plain": [
       "     Sex Length Diameter Height Whole.weight Shucked.weight Viscera.weight\n",
       "1    M   0.455  0.365    0.095  0.5140       0.2245         0.1010        \n",
       "2    M   0.440  0.365    0.125  0.5160       0.2155         0.1140        \n",
       "3    I   0.425  0.300    0.095  0.3515       0.1410         0.0775        \n",
       "⋮    ⋮   ⋮      ⋮        ⋮      ⋮            ⋮              ⋮             \n",
       "1044 M   0.500  0.380    0.125  0.5770       0.269          0.1265        \n",
       "1045 M   0.590  0.440    0.135  0.9660       0.439          0.2145        \n",
       "1046 F   0.625  0.485    0.150  1.0945       0.531          0.2610        \n",
       "     Shell.weight Rings Age \n",
       "1    0.150        15    16.5\n",
       "2    0.155        10    11.5\n",
       "3    0.120         8     9.5\n",
       "⋮    ⋮            ⋮     ⋮   \n",
       "1044 0.1535        9    10.5\n",
       "1045 0.2605       10    11.5\n",
       "1046 0.2960       10    11.5"
      ]
     },
     "metadata": {},
     "output_type": "display_data"
    }
   ],
   "source": [
    "set.seed(2000)\n",
    "abalone_split <- initial_split(abalone, prop = 0.75, strata = Age)  \n",
    "abalone_train <- training(abalone_split)   \n",
    "abalone_test <- testing(abalone_split)\n",
    "abalone_train\n",
    "abalone_test"
   ]
  },
  {
   "cell_type": "code",
   "execution_count": 5,
   "id": "be7565df-3bb1-48ac-9f1a-00d7355c273b",
   "metadata": {},
   "outputs": [
    {
     "data": {
      "text/html": [
       "<table class=\"dataframe\">\n",
       "<caption>A tibble: 27 × 12</caption>\n",
       "<thead>\n",
       "\t<tr><th scope=col>Age</th><th scope=col>Num_observations</th><th scope=col>Mean_Length</th><th scope=col>Mean_Diameter</th><th scope=col>Mean_Height</th><th scope=col>Mean_Whole.weight</th><th scope=col>Mean_Shucked.weight</th><th scope=col>Mean_Viscera.weight</th><th scope=col>Mean_Shell.weight</th><th scope=col>Mean_Rings</th><th scope=col>Missing_Data_Count</th><th scope=col>Class</th></tr>\n",
       "\t<tr><th scope=col>&lt;dbl&gt;</th><th scope=col>&lt;int&gt;</th><th scope=col>&lt;dbl&gt;</th><th scope=col>&lt;dbl&gt;</th><th scope=col>&lt;dbl&gt;</th><th scope=col>&lt;dbl&gt;</th><th scope=col>&lt;dbl&gt;</th><th scope=col>&lt;dbl&gt;</th><th scope=col>&lt;dbl&gt;</th><th scope=col>&lt;dbl&gt;</th><th scope=col>&lt;int&gt;</th><th scope=col>&lt;dbl&gt;</th></tr>\n",
       "</thead>\n",
       "<tbody>\n",
       "\t<tr><td>2.5</td><td>1</td><td>0.0750000</td><td>0.0550000</td><td>0.01000000</td><td>0.00200000</td><td>0.00100000</td><td>5e-04</td><td>0.001500000</td><td>1</td><td>0</td><td>2.5</td></tr>\n",
       "\t<tr><td>3.5</td><td>1</td><td>0.1500000</td><td>0.1000000</td><td>0.02500000</td><td>0.01500000</td><td>0.00450000</td><td>4e-03</td><td>0.005000000</td><td>2</td><td>0</td><td>3.5</td></tr>\n",
       "\t<tr><td>4.5</td><td>9</td><td>0.1755556</td><td>0.1277778</td><td>0.04055556</td><td>0.02655556</td><td>0.01072222</td><td>6e-03</td><td>0.008333333</td><td>3</td><td>0</td><td>4.5</td></tr>\n",
       "\t<tr><td>⋮</td><td>⋮</td><td>⋮</td><td>⋮</td><td>⋮</td><td>⋮</td><td>⋮</td><td>⋮</td><td>⋮</td><td>⋮</td><td>⋮</td><td>⋮</td></tr>\n",
       "\t<tr><td>26.5</td><td>1</td><td>0.6450</td><td>0.490</td><td>0.2150</td><td>1.4060</td><td>0.4265</td><td>0.2285</td><td>0.510</td><td>25</td><td>0</td><td>26.5</td></tr>\n",
       "\t<tr><td>28.5</td><td>2</td><td>0.6075</td><td>0.500</td><td>0.2025</td><td>1.6980</td><td>0.5390</td><td>0.2980</td><td>0.705</td><td>27</td><td>0</td><td>28.5</td></tr>\n",
       "\t<tr><td>30.5</td><td>1</td><td>0.7000</td><td>0.585</td><td>0.1850</td><td>1.8075</td><td>0.7055</td><td>0.3215</td><td>0.475</td><td>29</td><td>0</td><td>30.5</td></tr>\n",
       "</tbody>\n",
       "</table>\n"
      ],
      "text/latex": [
       "A tibble: 27 × 12\n",
       "\\begin{tabular}{llllllllllll}\n",
       " Age & Num\\_observations & Mean\\_Length & Mean\\_Diameter & Mean\\_Height & Mean\\_Whole.weight & Mean\\_Shucked.weight & Mean\\_Viscera.weight & Mean\\_Shell.weight & Mean\\_Rings & Missing\\_Data\\_Count & Class\\\\\n",
       " <dbl> & <int> & <dbl> & <dbl> & <dbl> & <dbl> & <dbl> & <dbl> & <dbl> & <dbl> & <int> & <dbl>\\\\\n",
       "\\hline\n",
       "\t 2.5 & 1 & 0.0750000 & 0.0550000 & 0.01000000 & 0.00200000 & 0.00100000 & 5e-04 & 0.001500000 & 1 & 0 & 2.5\\\\\n",
       "\t 3.5 & 1 & 0.1500000 & 0.1000000 & 0.02500000 & 0.01500000 & 0.00450000 & 4e-03 & 0.005000000 & 2 & 0 & 3.5\\\\\n",
       "\t 4.5 & 9 & 0.1755556 & 0.1277778 & 0.04055556 & 0.02655556 & 0.01072222 & 6e-03 & 0.008333333 & 3 & 0 & 4.5\\\\\n",
       "\t ⋮ & ⋮ & ⋮ & ⋮ & ⋮ & ⋮ & ⋮ & ⋮ & ⋮ & ⋮ & ⋮ & ⋮\\\\\n",
       "\t 26.5 & 1 & 0.6450 & 0.490 & 0.2150 & 1.4060 & 0.4265 & 0.2285 & 0.510 & 25 & 0 & 26.5\\\\\n",
       "\t 28.5 & 2 & 0.6075 & 0.500 & 0.2025 & 1.6980 & 0.5390 & 0.2980 & 0.705 & 27 & 0 & 28.5\\\\\n",
       "\t 30.5 & 1 & 0.7000 & 0.585 & 0.1850 & 1.8075 & 0.7055 & 0.3215 & 0.475 & 29 & 0 & 30.5\\\\\n",
       "\\end{tabular}\n"
      ],
      "text/markdown": [
       "\n",
       "A tibble: 27 × 12\n",
       "\n",
       "| Age &lt;dbl&gt; | Num_observations &lt;int&gt; | Mean_Length &lt;dbl&gt; | Mean_Diameter &lt;dbl&gt; | Mean_Height &lt;dbl&gt; | Mean_Whole.weight &lt;dbl&gt; | Mean_Shucked.weight &lt;dbl&gt; | Mean_Viscera.weight &lt;dbl&gt; | Mean_Shell.weight &lt;dbl&gt; | Mean_Rings &lt;dbl&gt; | Missing_Data_Count &lt;int&gt; | Class &lt;dbl&gt; |\n",
       "|---|---|---|---|---|---|---|---|---|---|---|---|\n",
       "| 2.5 | 1 | 0.0750000 | 0.0550000 | 0.01000000 | 0.00200000 | 0.00100000 | 5e-04 | 0.001500000 | 1 | 0 | 2.5 |\n",
       "| 3.5 | 1 | 0.1500000 | 0.1000000 | 0.02500000 | 0.01500000 | 0.00450000 | 4e-03 | 0.005000000 | 2 | 0 | 3.5 |\n",
       "| 4.5 | 9 | 0.1755556 | 0.1277778 | 0.04055556 | 0.02655556 | 0.01072222 | 6e-03 | 0.008333333 | 3 | 0 | 4.5 |\n",
       "| ⋮ | ⋮ | ⋮ | ⋮ | ⋮ | ⋮ | ⋮ | ⋮ | ⋮ | ⋮ | ⋮ | ⋮ |\n",
       "| 26.5 | 1 | 0.6450 | 0.490 | 0.2150 | 1.4060 | 0.4265 | 0.2285 | 0.510 | 25 | 0 | 26.5 |\n",
       "| 28.5 | 2 | 0.6075 | 0.500 | 0.2025 | 1.6980 | 0.5390 | 0.2980 | 0.705 | 27 | 0 | 28.5 |\n",
       "| 30.5 | 1 | 0.7000 | 0.585 | 0.1850 | 1.8075 | 0.7055 | 0.3215 | 0.475 | 29 | 0 | 30.5 |\n",
       "\n"
      ],
      "text/plain": [
       "   Age  Num_observations Mean_Length Mean_Diameter Mean_Height\n",
       "1  2.5  1                0.0750000   0.0550000     0.01000000 \n",
       "2  3.5  1                0.1500000   0.1000000     0.02500000 \n",
       "3  4.5  9                0.1755556   0.1277778     0.04055556 \n",
       "⋮  ⋮    ⋮                ⋮           ⋮             ⋮          \n",
       "25 26.5 1                0.6450      0.490         0.2150     \n",
       "26 28.5 2                0.6075      0.500         0.2025     \n",
       "27 30.5 1                0.7000      0.585         0.1850     \n",
       "   Mean_Whole.weight Mean_Shucked.weight Mean_Viscera.weight Mean_Shell.weight\n",
       "1  0.00200000        0.00100000          5e-04               0.001500000      \n",
       "2  0.01500000        0.00450000          4e-03               0.005000000      \n",
       "3  0.02655556        0.01072222          6e-03               0.008333333      \n",
       "⋮  ⋮                 ⋮                   ⋮                   ⋮                \n",
       "25 1.4060            0.4265              0.2285              0.510            \n",
       "26 1.6980            0.5390              0.2980              0.705            \n",
       "27 1.8075            0.7055              0.3215              0.475            \n",
       "   Mean_Rings Missing_Data_Count Class\n",
       "1  1          0                  2.5  \n",
       "2  2          0                  3.5  \n",
       "3  3          0                  4.5  \n",
       "⋮  ⋮          ⋮                  ⋮    \n",
       "25 25         0                  26.5 \n",
       "26 27         0                  28.5 \n",
       "27 29         0                  30.5 "
      ]
     },
     "metadata": {},
     "output_type": "display_data"
    }
   ],
   "source": [
    "summarized_abalone_train <- abalone_train %>%\n",
    "  group_by(Age) %>%\n",
    "  summarise(\n",
    "    Num_observations = n(),\n",
    "    Mean_Length = mean(Length, na.rm = TRUE),\n",
    "    Mean_Diameter = mean(Diameter, na.rm = TRUE),\n",
    "    Mean_Height = mean(Height, na.rm = TRUE),  \n",
    "    Mean_Whole.weight = mean(Whole.weight, na.rm = TRUE),\n",
    "    Mean_Shucked.weight = mean(Shucked.weight, na.rm = TRUE),\n",
    "    Mean_Viscera.weight = mean(Viscera.weight, na.rm = TRUE),\n",
    "    Mean_Shell.weight = mean(Shell.weight, na.rm = TRUE),\n",
    "    Mean_Rings = mean(Rings, na.rm = TRUE),\n",
    "    \n",
    "      \n",
    "    Missing_Data_Count = sum(is.na(Length) | is.na(Diameter) | is.na(Height)| is.na(Whole.weight)|is.na(Shucked.weight)|\n",
    "    is.na(Viscera.weight)|is.na(Shell.weight)|is.na(Rings))\n",
    "    ) %>%\n",
    "  ungroup() %>%\n",
    "  mutate(Class = ifelse(is.na(Age), \"Total\", Age))\n",
    "\n",
    "summarized_abalone_train"
   ]
  }
 ],
 "metadata": {
  "kernelspec": {
   "display_name": "R",
   "language": "R",
   "name": "ir"
  },
  "language_info": {
   "codemirror_mode": "r",
   "file_extension": ".r",
   "mimetype": "text/x-r-source",
   "name": "R",
   "pygments_lexer": "r",
   "version": "4.1.3"
  }
 },
 "nbformat": 4,
 "nbformat_minor": 5
}
